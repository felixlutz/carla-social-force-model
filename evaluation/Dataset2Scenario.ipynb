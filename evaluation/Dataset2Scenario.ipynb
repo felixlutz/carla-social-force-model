{
 "cells": [
  {
   "cell_type": "code",
   "execution_count": null,
   "id": "51092825-c061-4e6d-a4be-30d2fed5469e",
   "metadata": {
    "tags": []
   },
   "outputs": [],
   "source": [
    "%config Completer.use_jedi = False\n",
    "import pandas as pd\n",
    "import numpy as np\n",
    "import matplotlib.pyplot as plt"
   ]
  },
  {
   "cell_type": "code",
   "execution_count": null,
   "id": "3b8c8f73-624f-48eb-8d4b-720fc985cae2",
   "metadata": {},
   "outputs": [],
   "source": [
    "ped_path = '/home/flutz/PycharmProjects/social-force-model/evaluation/vci-dataset-citr-master/data/trajectories_filtered/vci_front/front_interaction_01_traj_ped_filtered.csv'\n",
    "veh_path = '/home/flutz/PycharmProjects/social-force-model/evaluation/vci-dataset-citr-master/data/trajectories_filtered/vci_front/front_interaction_01_traj_veh_filtered.csv'\n"
   ]
  },
  {
   "cell_type": "code",
   "execution_count": null,
   "id": "7b7a3057-8402-48e5-859f-0290af634167",
   "metadata": {},
   "outputs": [],
   "source": [
    "ped_df = pd.read_csv(ped_path)\n",
    "ped_df"
   ]
  },
  {
   "cell_type": "code",
   "execution_count": null,
   "id": "b8656947-25ea-4367-b600-28640f61eedb",
   "metadata": {},
   "outputs": [],
   "source": [
    "ped_df.rename(columns={'id': 'ped_id', 'x_est': 'x', 'y_est': 'y', 'vx_est': 'v_x', 'vy_est': 'v_y'}, inplace=True)\n",
    "ped_df['frame'] = ped_df['frame'] - ped_df['frame'].min()\n",
    "# ped_df['y'] = ped_df['y']*-1\n",
    "# ped_df['v_y'] = ped_df['v_y']*-1\n",
    "ped_df.sort_values(by=['ped_id', 'frame'], inplace=True)\n",
    "ped_df"
   ]
  },
  {
   "cell_type": "code",
   "execution_count": null,
   "id": "fe3dbabb-d1be-4196-b267-3a970a076e9a",
   "metadata": {},
   "outputs": [],
   "source": [
    "new_origin_x = ped_df['x'].values[0]\n",
    "new_origin_y = ped_df['y'].values[0]\n",
    "ped_df['x'] = ped_df['x'] - new_origin_x\n",
    "ped_df['y'] = ped_df['y'] - new_origin_y\n",
    "\n",
    "ped_df"
   ]
  },
  {
   "cell_type": "code",
   "execution_count": null,
   "id": "6ed48784-1f14-40b1-804c-1965fe29172d",
   "metadata": {},
   "outputs": [],
   "source": [
    "carla_origin_x = -50.0\n",
    "carla_origin_y = 25.0\n",
    "\n",
    "ped_df['x'] = ped_df['x'] + carla_origin_x\n",
    "ped_df['y'] = ped_df['y'] + carla_origin_y\n",
    "ped_df"
   ]
  },
  {
   "cell_type": "code",
   "execution_count": null,
   "id": "42d2b680-b096-4651-9f85-3809a7ddd515",
   "metadata": {},
   "outputs": [],
   "source": [
    "for key, grp in ped_df.groupby(['ped_id']):\n",
    "    spawn_location = [grp['x'].iloc[0], grp['y'].iloc[0], 1.0]\n",
    "    destination = [grp['x'].iloc[-1], grp['y'].iloc[-1], 0.0]\n",
    "    speed = np.median(np.linalg.norm(grp[['v_x', 'v_y']].to_numpy(), axis=-1))\n",
    "\n",
    "    print('[[walker.ped_spawner]]')\n",
    "    print('blueprint = \\'walker.pedestrian.0002\\'')\n",
    "    print('spawn_location = ' + str(spawn_location))\n",
    "    print('destination = ' + str(destination))\n",
    "    print('speed = ' + str(speed))\n",
    "    print('quantity = 1')\n",
    "    print('spawn_time = 0.0')\n",
    "    print('')"
   ]
  },
  {
   "cell_type": "code",
   "execution_count": null,
   "id": "969854f2-4b86-48e8-a509-7998a229652d",
   "metadata": {},
   "outputs": [],
   "source": [
    "veh_df = pd.read_csv(veh_path)\n",
    "veh_df.rename(columns={'id': 'veh_id', 'x_est': 'x', 'y_est': 'y', 'psi_est': 'heading', 'vel_est': 'vel'}, inplace=True)\n",
    "veh_df['frame'] = veh_df['frame'] - veh_df['frame'].min()\n",
    "# veh_df['y'] = veh_df['y']*-1\n",
    "veh_df.sort_values(by=['veh_id', 'frame'], inplace=True)\n",
    "\n",
    "veh_df.loc[veh_df.groupby('veh_id')['vel'].tail(3).index, ['vel']] = 0.0\n",
    "\n",
    "veh_df"
   ]
  },
  {
   "cell_type": "code",
   "execution_count": null,
   "id": "6fe516ad-4977-481e-a35a-781f1f8cdb17",
   "metadata": {},
   "outputs": [],
   "source": [
    "veh_df['x'] = veh_df['x'] - new_origin_x + carla_origin_x\n",
    "veh_df['y'] = veh_df['y'] - new_origin_y + carla_origin_y\n",
    "veh_df"
   ]
  },
  {
   "cell_type": "code",
   "execution_count": null,
   "id": "444f5495-36b5-47b8-af49-8d55f544d9d5",
   "metadata": {},
   "outputs": [],
   "source": [
    "for key, grp in veh_df.groupby(['veh_id']):\n",
    "    trajectory = list(map(list, zip(grp['x'].to_list(), grp['y'].to_list())))\n",
    "    headings = grp['heading'].to_list()\n",
    "    speed = grp['vel'].to_list()\n",
    "    \n",
    "    print('[[vehicle.vehicle_spawner]]')\n",
    "    print('auto_pilot = false')\n",
    "    print('blueprint = \\'vehicle.micro.microlino\\'')\n",
    "    print('trajectory = ' + str(trajectory))\n",
    "    print('headings = ' + str(headings))\n",
    "    print('speeds = ' + str(speed))\n",
    "    print('quantity = 1')\n",
    "    print('spawn_time = 0.0')\n",
    "    print('')\n",
    "\n",
    "    "
   ]
  },
  {
   "cell_type": "code",
   "execution_count": null,
   "id": "398d01d0-73cc-4e7f-b834-5acf3f1d5c70",
   "metadata": {},
   "outputs": [],
   "source": []
  }
 ],
 "metadata": {
  "kernelspec": {
   "display_name": "Python 3 (ipykernel)",
   "language": "python",
   "name": "python3"
  },
  "language_info": {
   "codemirror_mode": {
    "name": "ipython",
    "version": 3
   },
   "file_extension": ".py",
   "mimetype": "text/x-python",
   "name": "python",
   "nbconvert_exporter": "python",
   "pygments_lexer": "ipython3",
   "version": "3.8.10"
  }
 },
 "nbformat": 4,
 "nbformat_minor": 5
}
