{
 "cells": [
  {
   "cell_type": "code",
   "execution_count": null,
   "id": "93bec5f2-4143-4577-a832-9c655f7788a7",
   "metadata": {},
   "outputs": [],
   "source": [
    "%config Completer.use_jedi = False\n",
    "import pandas as pd\n",
    "import numpy as np\n",
    "import matplotlib.pyplot as plt\n",
    "from matplotlib.gridspec import GridSpec"
   ]
  },
  {
   "cell_type": "code",
   "execution_count": null,
   "id": "d4933cf9-6700-4516-bc4c-b13365e41d13",
   "metadata": {},
   "outputs": [],
   "source": [
    "eval_dir = '/home/flutz/PycharmProjects/social-force-model/output/'\n",
    "sim_run = '20230104-151620-vci_front_01'\n",
    "\n",
    "sim_eval_path = eval_dir + sim_run"
   ]
  },
  {
   "cell_type": "code",
   "execution_count": null,
   "id": "d9facc1d-7412-4acb-9d6e-c4816662df1c",
   "metadata": {
    "tags": []
   },
   "outputs": [],
   "source": [
    "data_ped_path = '/home/flutz/PycharmProjects/social-force-model/evaluation/vci-dataset-citr-master/data/trajectories_filtered/vci_front/front_interaction_01_traj_ped_filtered.csv'\n",
    "data_veh_path = '/home/flutz/PycharmProjects/social-force-model/evaluation/vci-dataset-citr-master/data/trajectories_filtered/vci_front/front_interaction_01_traj_veh_filtered.csv'"
   ]
  },
  {
   "cell_type": "markdown",
   "id": "9243bda3-abd7-4e75-95f4-adb4870ef091",
   "metadata": {},
   "source": [
    "# Load data\n",
    "\n",
    "Load data from dataset and from simulation and prepare data for comparison and evaluation."
   ]
  },
  {
   "cell_type": "markdown",
   "id": "8ae157fa-5125-448a-9253-be5d5f792a4c",
   "metadata": {},
   "source": [
    "## Dataset data"
   ]
  },
  {
   "cell_type": "code",
   "execution_count": null,
   "id": "5feaa35a-1591-437b-b9ed-a763ddb0a970",
   "metadata": {},
   "outputs": [],
   "source": [
    "#fps = 29.94\n",
    "step_time = 0.0334"
   ]
  },
  {
   "cell_type": "markdown",
   "id": "09ad9eff-343f-41fb-bc37-101bd7f56458",
   "metadata": {},
   "source": [
    "### Pedestrian data from dataset"
   ]
  },
  {
   "cell_type": "code",
   "execution_count": null,
   "id": "267245c0-aa7c-40ea-b826-5c3c13fccd10",
   "metadata": {},
   "outputs": [],
   "source": [
    "data_ped_df = pd.read_csv(data_ped_path)\n",
    "data_ped_df.rename(columns={'id': 'ped_id', 'x_est': 'x', 'y_est': 'y', 'vx_est': 'v_x', 'vy_est': 'v_y'}, inplace=True)\n",
    "data_ped_df['frame'] = data_ped_df['frame'] - data_ped_df['frame'].min()\n",
    "data_ped_df['ped_id'] = data_ped_df['ped_id'] - data_ped_df['ped_id'].min()\n",
    "data_ped_df['y'] = data_ped_df['y']*-1\n",
    "data_ped_df['v_y'] = data_ped_df['v_y']*-1\n",
    "data_ped_df.sort_values(by=['ped_id', 'frame'], inplace=True)\n",
    "data_ped_df.insert(2, 'time', data_ped_df['frame'] * step_time)\n",
    "data_ped_df.drop(columns=['label'], inplace=True)\n",
    "data_ped_df['speed'] = np.linalg.norm(data_ped_df[['v_x', 'v_y']].to_numpy(), axis=-1)\n",
    "\n",
    "data_offset_x = data_ped_df['x'].values[0]\n",
    "data_offset_y = data_ped_df['y'].values[0]\n",
    "\n",
    "data_ped_df['x'] = data_ped_df['x'] - data_offset_x\n",
    "data_ped_df['y'] = data_ped_df['y'] - data_offset_y\n",
    "\n",
    "data_ped_df"
   ]
  },
  {
   "cell_type": "markdown",
   "id": "ee6fb319-0f53-4ba5-a254-3d91c7a2f395",
   "metadata": {},
   "source": [
    "### Vehicle data from dataset"
   ]
  },
  {
   "cell_type": "code",
   "execution_count": null,
   "id": "ecdb54b5-8d1f-4681-a4fb-8b47cc7e51a0",
   "metadata": {},
   "outputs": [],
   "source": [
    "veh_ext_x = 1.2\n",
    "veh_ext_y = 0.6"
   ]
  },
  {
   "cell_type": "code",
   "execution_count": null,
   "id": "ea1d1894-6e89-4fea-bfe6-54cdd14612c4",
   "metadata": {},
   "outputs": [],
   "source": [
    "data_veh_df = pd.read_csv(data_veh_path)\n",
    "data_veh_df.rename(columns={'id': 'veh_id', 'x_est': 'x', 'y_est': 'y', 'psi_est': 'heading', 'vel_est': 'vel'}, inplace=True)\n",
    "data_veh_df['frame'] = data_veh_df['frame'] - data_veh_df['frame'].min()\n",
    "data_veh_df['veh_id'] = data_veh_df['veh_id'] - data_veh_df['veh_id'].min()\n",
    "data_veh_df['y'] = data_veh_df['y']*-1\n",
    "data_veh_df['heading'] = data_veh_df['heading']*-1\n",
    "data_veh_df.sort_values(by=['veh_id', 'frame'], inplace=True)\n",
    "data_veh_df.insert(2, 'time', data_veh_df['frame'] * step_time)\n",
    "data_veh_df['ext_x'] = veh_ext_x\n",
    "data_veh_df['ext_y'] = veh_ext_y\n",
    "data_veh_df.drop(columns=['label'], inplace=True)\n",
    "\n",
    "data_veh_df['x'] = data_veh_df['x'] - data_offset_x\n",
    "data_veh_df['y'] = data_veh_df['y'] - data_offset_y\n",
    "\n",
    "data_veh_df"
   ]
  },
  {
   "cell_type": "markdown",
   "id": "cbad7a93-3e5d-4b7f-bcf3-f9665a862b3b",
   "metadata": {},
   "source": [
    "## Simulation data"
   ]
  },
  {
   "cell_type": "code",
   "execution_count": null,
   "id": "a9befb3c-4f5c-4275-bbc9-0a9ae178cb9b",
   "metadata": {},
   "outputs": [],
   "source": [
    "ped_time_offset = 1.5"
   ]
  },
  {
   "cell_type": "markdown",
   "id": "8929160e-95ee-49c5-aab0-ad3f71e37aa1",
   "metadata": {},
   "source": [
    "### Pedestrian data from simulation"
   ]
  },
  {
   "cell_type": "code",
   "execution_count": null,
   "id": "c89d2663-7224-47a4-be46-f7690b6eb932",
   "metadata": {},
   "outputs": [],
   "source": [
    "sim_ped_df = pd.read_csv(sim_eval_path + '/pedestrian.csv')\n",
    "sim_ped_df.sort_values(by=['ped_id', 'frame'], inplace=True)\n",
    "sim_ped_df['y'] = sim_ped_df['y']*-1\n",
    "sim_ped_df['v_y'] = sim_ped_df['v_y']*-1\n",
    "sim_ped_df['speed'] = np.linalg.norm(sim_ped_df[['v_x', 'v_y']].to_numpy(), axis=-1)\n",
    "#sim_ped_df = sim_ped_df[sim_ped_df.index < len(data_ped_df)]\n",
    "\n",
    "sim_ped_df = sim_ped_df[sim_ped_df['time'] >= ped_time_offset]\n",
    "sim_ped_df['frame'] = sim_ped_df['frame'] - sim_ped_df['frame'].min()\n",
    "sim_ped_df['time'] = sim_ped_df['time'] - sim_ped_df['time'].min()\n",
    "\n",
    "sim_offset_x = sim_ped_df['x'].values[0]\n",
    "sim_offset_y = sim_ped_df['y'].values[0]\n",
    "\n",
    "sim_ped_df['x'] = sim_ped_df['x'] - sim_offset_x\n",
    "sim_ped_df['y'] = sim_ped_df['y'] - sim_offset_y\n",
    "\n",
    "sim_ped_df"
   ]
  },
  {
   "cell_type": "markdown",
   "id": "ecb5b817-8a3c-4649-afc3-f6fa9444e421",
   "metadata": {},
   "source": [
    "### Vehicle data from simulation"
   ]
  },
  {
   "cell_type": "code",
   "execution_count": null,
   "id": "df4c5c98-5793-4a33-82b9-8b18ba411aa6",
   "metadata": {},
   "outputs": [],
   "source": [
    "sim_veh_df = pd.read_csv(sim_eval_path + '/vehicle.csv')\n",
    "sim_veh_df['veh_id'] = sim_veh_df['veh_id'] - sim_veh_df['veh_id'].min()\n",
    "sim_veh_df['y'] = sim_veh_df['y']*-1\n",
    "sim_veh_df['heading'] = sim_veh_df['heading']*-1\n",
    "sim_veh_df.sort_values(by=['veh_id', 'frame'], inplace=True)\n",
    "sim_veh_df = sim_veh_df[sim_veh_df.index < len(data_veh_df)]\n",
    "\n",
    "sim_veh_df['frame'] = sim_veh_df['frame'] - sim_veh_df['frame'].min()\n",
    "sim_veh_df['time'] = sim_veh_df['time'] - sim_veh_df['time'].min()\n",
    "\n",
    "sim_veh_df['x'] = sim_veh_df['x'] - sim_offset_x\n",
    "sim_veh_df['y'] = sim_veh_df['y'] - sim_offset_y\n",
    "\n",
    "sim_veh_df"
   ]
  },
  {
   "cell_type": "markdown",
   "id": "e2928a62-6888-41bf-920c-41cfafca73b4",
   "metadata": {},
   "source": [
    "# Plot"
   ]
  },
  {
   "cell_type": "code",
   "execution_count": null,
   "id": "ecf45ca0-e79e-4074-be22-8e699229fd56",
   "metadata": {},
   "outputs": [],
   "source": [
    "def plot_scenario(ax, ped_df, veh_df, title, arrow_length=10):\n",
    "    for key, grp in ped_df.groupby(['ped_id']):\n",
    "        ax = grp.plot(ax=ax, kind='line', x='x', y='y', label=f'ped_{key}', legend=False)\n",
    "        ax.arrow(grp['x'].iloc[0], grp['y'].iloc[0], grp['x'].iloc[arrow_length] - grp['x'].iloc[0], grp['y'].iloc[10] - grp['y'].iloc[0], width=0.1, zorder=10)\n",
    "\n",
    "    for key, grp in veh_df.groupby(['veh_id']):\n",
    "        ax = grp.plot(ax=ax, kind='line', ls='--', lw=2, x='x', y='y', label=f'veh_{key}', legend=False)\n",
    "        ax.arrow(grp['x'].iloc[0], grp['y'].iloc[0], grp['x'].iloc[10] - grp['x'].iloc[0], grp['y'].iloc[10] - grp['y'].iloc[0], width=0.2, zorder=10)\n",
    "    \n",
    "    ax.set_title(title)\n",
    "    ax.set_aspect('equal')\n",
    "    ax.set_xlabel('x [m]')\n",
    "    ax.set_ylabel('y [m]')\n",
    "    ax.set_ylim([-6, 2])\n",
    "    ax.set_xlim([-10, 25])\n"
   ]
  },
  {
   "cell_type": "code",
   "execution_count": null,
   "id": "4c9e1812-5b85-4bd5-b71a-7235ea99d82c",
   "metadata": {},
   "outputs": [],
   "source": [
    "fig, (ax1, ax2) = plt.subplots(2,1)\n",
    "\n",
    "plot_scenario(ax1, data_ped_df, data_veh_df, 'Dataset')\n",
    "plot_scenario(ax2, sim_ped_df, sim_veh_df, 'Simulation', arrow_length=10)\n",
    "\n",
    "handles, labels = ax1.get_legend_handles_labels()\n",
    "fig.legend(handles, labels, loc='center left', bbox_to_anchor=(1, 0.5))\n",
    "fig.tight_layout()\n",
    "#plt.savefig('/home/flutz/Schreibtisch/6_Months_Status_Presentation/vci_front_01_scenario_trajectory_comparison.png', dpi=300)\n",
    "plt.show()"
   ]
  },
  {
   "cell_type": "markdown",
   "id": "82b8292a-2634-42d8-875e-5a8b77a2925e",
   "metadata": {},
   "source": [
    "# Metrics"
   ]
  },
  {
   "cell_type": "markdown",
   "id": "9fc64828-f13b-4707-bad8-eb0349b95606",
   "metadata": {},
   "source": [
    "### Speed"
   ]
  },
  {
   "cell_type": "code",
   "execution_count": null,
   "id": "9943d93f-121a-4881-bcb0-8f1609402bcc",
   "metadata": {},
   "outputs": [],
   "source": [
    "def average_speed(ped_df):\n",
    "    for key, grp in ped_df.groupby(['ped_id']):\n",
    "        speed = np.median(np.linalg.norm(grp[['v_x', 'v_y']].to_numpy(), axis=-1))\n",
    "        print(f'Mean speed {key}: {speed}')\n",
    "        \n",
    "def plot_speeds(ax, ped_df, title):\n",
    "    for key, grp in ped_df.groupby(['ped_id']):\n",
    "        ax = grp.plot(ax=ax, kind='line', x='time', y='speed', label=f'ped_{key}', legend=False, ylim=[0,2])\n",
    "        \n",
    "        ax.set_title(title)\n",
    "        ax.set_xlabel('time [s]')\n",
    "        ax.set_ylabel('speed [m/s]') \n",
    "        \n",
    "def plot_speed_errors(ax, sim_ped_df, data_ped_df):\n",
    "    sim_groups = sim_ped_df.groupby(['ped_id'])\n",
    "\n",
    "    for key, data_grp in data_ped_df.groupby(['ped_id']):\n",
    "\n",
    "        sim_grp = sim_groups.get_group(key)\n",
    "\n",
    "        data_speeds = data_grp[['speed']].to_numpy()\n",
    "        sim_speeds = sim_grp[['speed']].to_numpy()\n",
    "        \n",
    "        max_len = min([len(data_speeds), len(sim_speeds)])\n",
    "        data_speeds = data_speeds[: max_len]\n",
    "        sim_speeds = sim_speeds[: max_len]\n",
    "        \n",
    "        loc_errors = np.linalg.norm(data_speeds - sim_speeds, axis=-1)\n",
    "\n",
    "        ax.plot(data_grp['time'].to_numpy()[: max_len], loc_errors, label=f'ped_{key}')\n",
    "        \n",
    "        ax.set_xlabel('time [s]')\n",
    "        ax.set_ylabel('speed error [m/s]')\n",
    "        ax.set_title('Speed error over time')"
   ]
  },
  {
   "cell_type": "code",
   "execution_count": null,
   "id": "4be64106-c77c-4679-a3d9-696dfb36090b",
   "metadata": {},
   "outputs": [],
   "source": [
    "fig = plt.figure()\n",
    "gs = GridSpec(2, 4, figure=fig)\n",
    "ax1 = fig.add_subplot(gs[0, :2])\n",
    "ax2 = fig.add_subplot(gs[1, :2], sharex=ax1)\n",
    "ax3 = fig.add_subplot(gs[:, 2:4], sharex=ax1)\n",
    "\n",
    "plot_speeds(ax1, data_ped_df, 'Dataset')\n",
    "plot_speeds(ax2, sim_ped_df, 'Simulation')\n",
    "plot_speed_errors(ax3, sim_ped_df, data_ped_df)\n",
    "\n",
    "handles, labels = ax1.get_legend_handles_labels()\n",
    "fig.legend(handles, labels, loc='center left', bbox_to_anchor=(1, 0.5))\n",
    "fig.tight_layout()\n",
    "plt.show()"
   ]
  },
  {
   "cell_type": "markdown",
   "id": "26eefc29-58d4-47a7-ae6d-6e1517e5544a",
   "metadata": {
    "tags": []
   },
   "source": [
    "### Location Error"
   ]
  },
  {
   "cell_type": "code",
   "execution_count": null,
   "id": "f2abf392-6411-49a8-99c1-d1f790f40306",
   "metadata": {},
   "outputs": [],
   "source": [
    "def plot_loc_errors(ax, sim_ped_df, data_ped_df):\n",
    "    \n",
    "    sim_groups = sim_ped_df.groupby(['ped_id'])\n",
    "\n",
    "    for key, data_grp in data_ped_df.groupby(['ped_id']):\n",
    "\n",
    "        sim_grp = sim_groups.get_group(key)\n",
    "\n",
    "        data_locs = data_grp[['x', 'y']].to_numpy()\n",
    "        sim_locs = sim_grp[['x', 'y']].to_numpy()\n",
    "        \n",
    "        max_len = min([len(data_locs), len(sim_locs)])\n",
    "        data_locs = data_locs[: max_len]\n",
    "        sim_locs = sim_locs[: max_len]\n",
    "        \n",
    "        loc_errors = np.linalg.norm(data_locs - sim_locs, axis=-1)\n",
    "\n",
    "        ax = plt.plot(data_grp['time'].to_numpy()[: max_len], loc_errors, label=f'ped_{key}')\n",
    "        \n",
    "        "
   ]
  },
  {
   "cell_type": "code",
   "execution_count": null,
   "id": "58d30dac-f7b0-4819-a7c9-9a026898bd4c",
   "metadata": {},
   "outputs": [],
   "source": [
    "fig, ax = plt.subplots()\n",
    "\n",
    "plot_loc_errors(ax, sim_ped_df, data_ped_df)\n",
    "\n",
    "handles, labels = ax.get_legend_handles_labels()\n",
    "fig.legend(handles, labels, loc='center left', bbox_to_anchor=(1, 0.5))\n",
    "\n",
    "ax.set_xlabel('time [s]')\n",
    "ax.set_ylabel('location error [m]')\n",
    "ax.set_title('Location error over time')\n",
    "\n",
    "plt.show()\n"
   ]
  },
  {
   "cell_type": "code",
   "execution_count": null,
   "id": "a20db531-c896-41ca-8b1e-cd0e25714358",
   "metadata": {},
   "outputs": [],
   "source": []
  }
 ],
 "metadata": {
  "kernelspec": {
   "display_name": "Python 3 (ipykernel)",
   "language": "python",
   "name": "python3"
  },
  "language_info": {
   "codemirror_mode": {
    "name": "ipython",
    "version": 3
   },
   "file_extension": ".py",
   "mimetype": "text/x-python",
   "name": "python",
   "nbconvert_exporter": "python",
   "pygments_lexer": "ipython3",
   "version": "3.8.10"
  }
 },
 "nbformat": 4,
 "nbformat_minor": 5
}
