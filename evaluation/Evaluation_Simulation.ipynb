{
 "cells": [
  {
   "cell_type": "code",
   "execution_count": null,
   "id": "dce83396",
   "metadata": {},
   "outputs": [],
   "source": [
    "%config Completer.use_jedi = False\n",
    "import pandas as pd\n",
    "import numpy as np\n",
    "import matplotlib.pyplot as plt\n",
    "plt.rcParams[\"animation.html\"] = \"jshtml\"\n",
    "import matplotlib.animation as mpl_animation\n",
    "from matplotlib.collections import PatchCollection\n",
    "from matplotlib.patches import Circle, Rectangle"
   ]
  },
  {
   "cell_type": "code",
   "execution_count": null,
   "id": "00e521ce-90c3-4791-994e-05fbd67d3fbb",
   "metadata": {},
   "outputs": [],
   "source": [
    "eval_dir = '/home/flutz/PycharmProjects/social-force-model/output/'\n",
    "sim_run = '20221222-180831-vci_front_01'\n",
    "\n",
    "eval_path = eval_dir + sim_run"
   ]
  },
  {
   "cell_type": "code",
   "execution_count": null,
   "id": "98863f87-4850-414c-8668-9f5685c2bd69",
   "metadata": {},
   "outputs": [],
   "source": [
    "ped_df = pd.read_csv(eval_path + '/pedestrian.csv')\n",
    "ped_df.sort_values(by=['ped_id', 'frame'], inplace=True)\n",
    "ped_df['y'] = ped_df['y']*-1\n",
    "ped_df['v_y'] = ped_df['v_y']*-1\n",
    "ped_df"
   ]
  },
  {
   "cell_type": "code",
   "execution_count": null,
   "id": "6e8dd3e6-d19a-47c0-b32f-49ba83b35339",
   "metadata": {},
   "outputs": [],
   "source": [
    "veh_df = pd.read_csv(eval_path + '/vehicle.csv')\n",
    "veh_df['y'] = veh_df['y']*-1\n",
    "veh_df['heading'] = veh_df['heading']*-1\n",
    "veh_df.sort_values(by=['veh_id', 'frame'], inplace=True)\n",
    "veh_df"
   ]
  },
  {
   "cell_type": "code",
   "execution_count": null,
   "id": "1b3ec22b-7c28-411f-b3d6-743b03784a53",
   "metadata": {},
   "outputs": [],
   "source": [
    "fig, ax = plt.subplots()\n",
    "\n",
    "for key, grp in ped_df.groupby(['ped_id']):\n",
    "    ax = grp.plot(ax=ax, kind='line', x='x', y='y', label=f'ped_{key}')\n",
    "    ax.arrow(grp['x'].iloc[0], grp['y'].iloc[0], grp['x'].iloc[10] - grp['x'].iloc[0], grp['y'].iloc[10] - grp['y'].iloc[0], width=0.1, zorder=10)\n",
    "    \n",
    "for key, grp in veh_df.groupby(['veh_id']):\n",
    "    ax = grp.plot(ax=ax, kind='line', ls='--', lw=2, x='x', y='y', label=f'veh_{key}')\n",
    "    ax.arrow(grp['x'].iloc[0], grp['y'].iloc[0], grp['x'].iloc[10] - grp['x'].iloc[0], grp['y'].iloc[10] - grp['y'].iloc[0], width=0.2, zorder=10)\n",
    "\n",
    "ax.set_aspect('equal')\n",
    "ax.set_xlabel('x [m]')\n",
    "ax.set_ylabel('y [m]')    \n",
    "plt.legend(loc='center left', bbox_to_anchor=(1, 0.5))\n",
    "plt.show()"
   ]
  },
  {
   "cell_type": "code",
   "execution_count": null,
   "id": "f6404e9d-2525-46b7-a809-a341dafdceb0",
   "metadata": {},
   "outputs": [],
   "source": [
    "def plot_human(step=-1):\n",
    "    \"\"\"Generate patches for human\n",
    "    :param step: index of state, default is the latest\n",
    "    :return: list of patches\n",
    "    \"\"\"\n",
    "    current_state = ped_df.loc[ped_df['frame'] == step]\n",
    "    radius = [0.2] * current_state.shape[0]\n",
    "   \n",
    "    human_actors = [Circle((x, y), radius=r) for x, y, r in zip(current_state[['x']].to_numpy(), current_state[['y']].to_numpy(), radius)]\n",
    "    human_collection.set_paths(human_actors)\n",
    "    human_collection.set_array(np.arange(current_state.shape[0]))\n",
    "\n",
    "def plot_vehicle(step):\n",
    "    current_state = veh_df.loc[veh_df['frame'] == step]\n",
    "    vehicle_actors = [Rectangle((x - ext_x, y - ext_y), width=ext_x*2, height=ext_y*2, angle=np.rad2deg(heading), rotation_point='center') \n",
    "                      for x, y, heading, ext_x, ext_y in zip(current_state[['x']].to_numpy(), current_state[['y']].to_numpy(), current_state[['heading']].to_numpy(),\n",
    "                                                             current_state[['ext_x']].to_numpy(), current_state[['ext_y']].to_numpy())]\n",
    "    vehicle_collection.set_paths(vehicle_actors)\n",
    "    vehicle_collection.set_array(np.arange(current_state.shape[0]))\n",
    "    \n",
    "        \n",
    "def animation_init():\n",
    "    ax.add_collection(human_collection)\n",
    "    ax.add_collection(vehicle_collection)\n",
    "\n",
    "    return human_collection, vehicle_collection\n",
    "\n",
    "def animation_update(i):\n",
    "    plot_human(i)\n",
    "    plot_vehicle(i)\n",
    "    return human_collection, vehicle_collection"
   ]
  },
  {
   "cell_type": "code",
   "execution_count": null,
   "id": "3e931c8a-0866-4d25-9ed8-daf0f0678e26",
   "metadata": {},
   "outputs": [],
   "source": [
    "human_actors = None\n",
    "human_collection = PatchCollection([])\n",
    "human_collection.set(animated=True, alpha=0.6, cmap='viridis', clip_on=True)\n",
    "\n",
    "vehicle_actors = None\n",
    "vehicle_collection = PatchCollection([])\n",
    "vehicle_collection.set(animated=True, alpha=0.6, cmap='viridis', clip_on=True)\n",
    "\n",
    "fig, ax = plt.subplots()\n",
    "\n",
    " # x, y limit from states, only for animation\n",
    "margin = 2.0\n",
    "x_min = ped_df['x'].min() - margin\n",
    "x_max = ped_df['x'].max() + margin\n",
    "y_min = ped_df['y'].min() - margin\n",
    "y_max = ped_df['y'].max() + margin\n",
    "\n",
    "ax.set(xlim=(x_min, x_max), ylim=(y_min, y_max))\n",
    "ax.set_aspect('equal')\n",
    "ax.set_xlabel('x [m]')\n",
    "ax.set_ylabel('y [m]')\n",
    "\n",
    "frames = ped_df['frame'].max()\n",
    "\n",
    "ani = mpl_animation.FuncAnimation(\n",
    "            fig,\n",
    "            init_func=animation_init,\n",
    "            func=animation_update,\n",
    "            frames=frames,\n",
    "            interval=50)\n",
    "ani"
   ]
  },
  {
   "cell_type": "code",
   "execution_count": null,
   "id": "94e95f71-cb0e-45f2-af13-eaa8fa7fa995",
   "metadata": {},
   "outputs": [],
   "source": []
  }
 ],
 "metadata": {
  "kernelspec": {
   "display_name": "Python 3 (ipykernel)",
   "language": "python",
   "name": "python3"
  },
  "language_info": {
   "codemirror_mode": {
    "name": "ipython",
    "version": 3
   },
   "file_extension": ".py",
   "mimetype": "text/x-python",
   "name": "python",
   "nbconvert_exporter": "python",
   "pygments_lexer": "ipython3",
   "version": "3.8.10"
  }
 },
 "nbformat": 4,
 "nbformat_minor": 5
}
