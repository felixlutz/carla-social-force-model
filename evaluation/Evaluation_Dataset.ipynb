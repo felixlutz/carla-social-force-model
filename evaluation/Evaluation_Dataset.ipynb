{
 "cells": [
  {
   "cell_type": "code",
   "execution_count": null,
   "id": "4724bc64-1d00-4fe0-8940-334ad7f23350",
   "metadata": {},
   "outputs": [],
   "source": [
    "%config Completer.use_jedi = False\n",
    "import pandas as pd\n",
    "import numpy as np\n",
    "import matplotlib.pyplot as plt\n",
    "plt.rcParams[\"animation.html\"] = \"jshtml\"\n",
    "import matplotlib.animation as mpl_animation\n",
    "from matplotlib.collections import PatchCollection\n",
    "from matplotlib.patches import Circle, Rectangle"
   ]
  },
  {
   "cell_type": "code",
   "execution_count": null,
   "id": "28704014-3071-4157-ab9d-8398ef9dfe20",
   "metadata": {},
   "outputs": [],
   "source": [
    "ped_path = '/home/flutz/PycharmProjects/social-force-model/evaluation/vci-dataset-citr-master/data/trajectories_filtered/vci_front/front_interaction_01_traj_ped_filtered.csv'\n",
    "veh_path = '/home/flutz/PycharmProjects/social-force-model/evaluation/vci-dataset-citr-master/data/trajectories_filtered/vci_front/front_interaction_01_traj_veh_filtered.csv'"
   ]
  },
  {
   "cell_type": "code",
   "execution_count": null,
   "id": "4f142a7c-e132-405e-abe2-f7fc957d8b0c",
   "metadata": {},
   "outputs": [],
   "source": [
    "ped_df = pd.read_csv(ped_path)\n",
    "ped_df"
   ]
  },
  {
   "cell_type": "code",
   "execution_count": null,
   "id": "b276c07d-af23-47d1-80ac-4579c68a9acb",
   "metadata": {},
   "outputs": [],
   "source": [
    "ped_df.rename(columns={'id': 'ped_id', 'x_est': 'x', 'y_est': 'y', 'vx_est': 'v_x', 'vy_est': 'v_y'}, inplace=True)\n",
    "ped_df['frame'] = ped_df['frame'] - ped_df['frame'].min()\n",
    "ped_df['y'] = ped_df['y']*-1\n",
    "ped_df['v_y'] = ped_df['v_y']*-1\n",
    "ped_df.sort_values(by=['ped_id', 'frame'], inplace=True)\n",
    "ped_df"
   ]
  },
  {
   "cell_type": "code",
   "execution_count": null,
   "id": "19647d9c-c9e2-4dec-a372-fa11e251d1cf",
   "metadata": {},
   "outputs": [],
   "source": [
    "if veh_path:\n",
    "    veh_df = pd.read_csv(veh_path)\n",
    "    veh_df.rename(columns={'id': 'veh_id', 'x_est': 'x', 'y_est': 'y', 'psi_est': 'heading', 'vel_est': 'vel'}, inplace=True)\n",
    "    veh_df['frame'] = veh_df['frame'] - veh_df['frame'].min()\n",
    "    veh_df['y'] = veh_df['y']*-1\n",
    "    veh_df['heading'] = veh_df['heading']*-1\n",
    "    veh_df.sort_values(by=['veh_id', 'frame'], inplace=True)\n",
    "else:\n",
    "    veh_df = None\n",
    "veh_df"
   ]
  },
  {
   "cell_type": "code",
   "execution_count": null,
   "id": "cedef92a-c735-4926-835c-bbec18e4b560",
   "metadata": {},
   "outputs": [],
   "source": [
    "fig, ax = plt.subplots()\n",
    "\n",
    "for key, grp in ped_df.groupby(['ped_id']):\n",
    "    ax = grp.plot(ax=ax, kind='line', x='x', y='y', label=f'ped_{key}')\n",
    "    ax.arrow(grp['x'].iloc[0], grp['y'].iloc[0], grp['x'].iloc[10] - grp['x'].iloc[0], grp['y'].iloc[10] - grp['y'].iloc[0], width=0.1, zorder=10)\n",
    "\n",
    "if veh_path:\n",
    "    for key, grp in veh_df.groupby(['veh_id']):\n",
    "        ax = grp.plot(ax=ax, kind='line', ls='--', lw=2, x='x', y='y', label=f'veh_{key}')\n",
    "        ax.arrow(grp['x'].iloc[0], grp['y'].iloc[0], grp['x'].iloc[10] - grp['x'].iloc[0], grp['y'].iloc[10] - grp['y'].iloc[0], width=0.2, zorder=10)\n",
    "        \n",
    "ax.set_aspect('equal')\n",
    "ax.set_xlabel('x [m]')\n",
    "ax.set_ylabel('y [m]')    \n",
    "plt.legend(loc='center left', bbox_to_anchor=(1, 0.5))\n",
    "plt.show()"
   ]
  },
  {
   "cell_type": "code",
   "execution_count": null,
   "id": "9213dff1-a5fb-4090-a1ef-9cddea4bf362",
   "metadata": {},
   "outputs": [],
   "source": [
    "def plot_human(step):\n",
    "    \"\"\"Generate patches for human\n",
    "    :param step: index of state, default is the latest\n",
    "    :return: list of patches\n",
    "    \"\"\"\n",
    "    current_state = ped_df.loc[ped_df['frame'] == step]\n",
    "    radius = [0.2] * current_state.shape[0]\n",
    "   \n",
    "    human_actors = [Circle((x, y), radius=r) for x, y, r in zip(current_state[['x']].to_numpy(), current_state[['y']].to_numpy(), radius)]\n",
    "    human_collection.set_paths(human_actors)\n",
    "    human_collection.set_array(np.arange(current_state.shape[0]))\n",
    "\n",
    "    \n",
    "def plot_vehicle(step):\n",
    "    current_state = veh_df.loc[veh_df['frame'] == step]\n",
    "    veh_length = 2.4\n",
    "    veh_width = 1.2\n",
    "    vehicle_actors = [Rectangle((x - veh_length/2, y - veh_width/2), width=veh_length, height=veh_width, angle=np.rad2deg(heading), rotation_point='center') \n",
    "                      for x, y, heading in zip(current_state[['x']].to_numpy(), current_state[['y']].to_numpy(), current_state[['heading']].to_numpy())]\n",
    "    vehicle_collection.set_paths(vehicle_actors)\n",
    "    vehicle_collection.set_array(np.arange(current_state.shape[0]))\n",
    "    \n",
    "        \n",
    "def animation_init():\n",
    "    ax.add_collection(human_collection)\n",
    "    if veh_path:\n",
    "        ax.add_collection(vehicle_collection)\n",
    "\n",
    "    return human_collection, vehicle_collection\n",
    "\n",
    "def animation_update(i):\n",
    "    plot_human(i)\n",
    "    if veh_path:\n",
    "        plot_vehicle(i)\n",
    "    return human_collection, vehicle_collection"
   ]
  },
  {
   "cell_type": "code",
   "execution_count": null,
   "id": "08475654-c580-428a-a10a-8b2128383470",
   "metadata": {},
   "outputs": [],
   "source": [
    "human_actors = None\n",
    "human_collection = PatchCollection([])\n",
    "human_collection.set(animated=True, alpha=0.6, cmap='viridis', clip_on=True)\n",
    "\n",
    "vehicle_actors = None\n",
    "vehicle_collection = PatchCollection([])\n",
    "vehicle_collection.set(animated=True, alpha=0.6, cmap='viridis', clip_on=True)\n",
    "\n",
    "fig, ax = plt.subplots()\n",
    "\n",
    " # x, y limit from states, only for animation\n",
    "margin = 2.0\n",
    "x_min = ped_df['x'].min() - margin\n",
    "x_max = ped_df['x'].max() + margin\n",
    "y_min = ped_df['y'].min() - margin\n",
    "y_max = ped_df['y'].max() + margin\n",
    "\n",
    "ax.set(xlim=(x_min, x_max), ylim=(y_min, y_max))\n",
    "ax.set_aspect('equal')\n",
    "ax.set_xlabel('x [m]')\n",
    "ax.set_ylabel('y [m]')\n",
    "\n",
    "frames = ped_df['frame'].max()\n",
    "\n",
    "ani = mpl_animation.FuncAnimation(\n",
    "            fig,\n",
    "            init_func=animation_init,\n",
    "            func=animation_update,\n",
    "            frames=frames,\n",
    "            interval=50)\n",
    "ani"
   ]
  },
  {
   "cell_type": "code",
   "execution_count": null,
   "id": "70a3af27-f423-4585-a5a9-448fa40c87ab",
   "metadata": {},
   "outputs": [],
   "source": []
  }
 ],
 "metadata": {
  "kernelspec": {
   "display_name": "Python 3 (ipykernel)",
   "language": "python",
   "name": "python3"
  },
  "language_info": {
   "codemirror_mode": {
    "name": "ipython",
    "version": 3
   },
   "file_extension": ".py",
   "mimetype": "text/x-python",
   "name": "python",
   "nbconvert_exporter": "python",
   "pygments_lexer": "ipython3",
   "version": "3.8.10"
  }
 },
 "nbformat": 4,
 "nbformat_minor": 5
}
